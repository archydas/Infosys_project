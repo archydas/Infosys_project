{
 "cells": [
  {
   "cell_type": "code",
   "execution_count": 1,
   "id": "0c921162-4b9a-4b24-b73c-25510066bc9b",
   "metadata": {},
   "outputs": [
    {
     "name": "stdout",
     "output_type": "stream",
     "text": [
      "Defaulting to user installation because normal site-packages is not writeable\n",
      "Collecting easyocr\n",
      "  Downloading easyocr-1.7.2-py3-none-any.whl.metadata (10 kB)\n",
      "Requirement already satisfied: torch in c:\\users\\archy\\appdata\\roaming\\python\\python313\\site-packages (from easyocr) (2.6.0)\n",
      "Requirement already satisfied: torchvision>=0.5 in c:\\users\\archy\\appdata\\roaming\\python\\python313\\site-packages (from easyocr) (0.21.0)\n",
      "Collecting opencv-python-headless (from easyocr)\n",
      "  Downloading opencv_python_headless-4.11.0.86-cp37-abi3-win_amd64.whl.metadata (20 kB)\n",
      "Requirement already satisfied: scipy in c:\\users\\archy\\appdata\\roaming\\python\\python313\\site-packages (from easyocr) (1.15.2)\n",
      "Requirement already satisfied: numpy in c:\\users\\archy\\appdata\\roaming\\python\\python313\\site-packages (from easyocr) (2.1.1)\n",
      "Requirement already satisfied: Pillow in c:\\users\\archy\\appdata\\roaming\\python\\python313\\site-packages (from easyocr) (11.1.0)\n",
      "Collecting scikit-image (from easyocr)\n",
      "  Downloading scikit_image-0.25.2-cp313-cp313-win_amd64.whl.metadata (14 kB)\n",
      "Collecting python-bidi (from easyocr)\n",
      "  Downloading python_bidi-0.6.6-cp313-cp313-win_amd64.whl.metadata (5.0 kB)\n",
      "Requirement already satisfied: PyYAML in c:\\users\\archy\\appdata\\roaming\\python\\python313\\site-packages (from easyocr) (6.0.2)\n",
      "Collecting Shapely (from easyocr)\n",
      "  Downloading shapely-2.0.7-cp313-cp313-win_amd64.whl.metadata (7.1 kB)\n",
      "Collecting pyclipper (from easyocr)\n",
      "  Downloading pyclipper-1.3.0.post6-cp313-cp313-win_amd64.whl.metadata (9.2 kB)\n",
      "Collecting ninja (from easyocr)\n",
      "  Downloading ninja-1.11.1.3-py3-none-win_amd64.whl.metadata (5.3 kB)\n",
      "Requirement already satisfied: filelock in c:\\users\\archy\\appdata\\roaming\\python\\python313\\site-packages (from torch->easyocr) (3.17.0)\n",
      "Requirement already satisfied: typing-extensions>=4.10.0 in c:\\users\\archy\\appdata\\roaming\\python\\python313\\site-packages (from torch->easyocr) (4.12.2)\n",
      "Requirement already satisfied: networkx in c:\\users\\archy\\appdata\\roaming\\python\\python313\\site-packages (from torch->easyocr) (3.4.2)\n",
      "Requirement already satisfied: jinja2 in c:\\users\\archy\\appdata\\roaming\\python\\python313\\site-packages (from torch->easyocr) (3.1.5)\n",
      "Requirement already satisfied: fsspec in c:\\users\\archy\\appdata\\roaming\\python\\python313\\site-packages (from torch->easyocr) (2025.2.0)\n",
      "Requirement already satisfied: setuptools in c:\\users\\archy\\appdata\\roaming\\python\\python313\\site-packages (from torch->easyocr) (75.8.0)\n",
      "Requirement already satisfied: sympy==1.13.1 in c:\\users\\archy\\appdata\\roaming\\python\\python313\\site-packages (from torch->easyocr) (1.13.1)\n",
      "Requirement already satisfied: mpmath<1.4,>=1.1.0 in c:\\users\\archy\\appdata\\roaming\\python\\python313\\site-packages (from sympy==1.13.1->torch->easyocr) (1.3.0)\n",
      "Collecting imageio!=2.35.0,>=2.33 (from scikit-image->easyocr)\n",
      "  Downloading imageio-2.37.0-py3-none-any.whl.metadata (5.2 kB)\n",
      "Collecting tifffile>=2022.8.12 (from scikit-image->easyocr)\n",
      "  Downloading tifffile-2025.2.18-py3-none-any.whl.metadata (31 kB)\n",
      "Requirement already satisfied: packaging>=21 in c:\\users\\archy\\appdata\\roaming\\python\\python313\\site-packages (from scikit-image->easyocr) (24.2)\n",
      "Collecting lazy-loader>=0.4 (from scikit-image->easyocr)\n",
      "  Downloading lazy_loader-0.4-py3-none-any.whl.metadata (7.6 kB)\n",
      "Requirement already satisfied: MarkupSafe>=2.0 in c:\\users\\archy\\appdata\\roaming\\python\\python313\\site-packages (from jinja2->torch->easyocr) (3.0.2)\n",
      "Downloading easyocr-1.7.2-py3-none-any.whl (2.9 MB)\n",
      "   ---------------------------------------- 0.0/2.9 MB ? eta -:--:--\n",
      "   ------- -------------------------------- 0.5/2.9 MB 3.1 MB/s eta 0:00:01\n",
      "   -------------- ------------------------- 1.0/2.9 MB 2.7 MB/s eta 0:00:01\n",
      "   --------------------- ------------------ 1.6/2.9 MB 2.5 MB/s eta 0:00:01\n",
      "   ----------------------------- ---------- 2.1/2.9 MB 2.4 MB/s eta 0:00:01\n",
      "   -------------------------------- ------- 2.4/2.9 MB 2.5 MB/s eta 0:00:01\n",
      "   ---------------------------------------- 2.9/2.9 MB 2.3 MB/s eta 0:00:00\n",
      "Downloading ninja-1.11.1.3-py3-none-win_amd64.whl (296 kB)\n",
      "Downloading opencv_python_headless-4.11.0.86-cp37-abi3-win_amd64.whl (39.4 MB)\n",
      "   ---------------------------------------- 0.0/39.4 MB ? eta -:--:--\n",
      "   ---------------------------------------- 0.3/39.4 MB ? eta -:--:--\n",
      "   - -------------------------------------- 1.0/39.4 MB 2.6 MB/s eta 0:00:15\n",
      "   - -------------------------------------- 1.6/39.4 MB 2.6 MB/s eta 0:00:15\n",
      "   - -------------------------------------- 1.8/39.4 MB 2.5 MB/s eta 0:00:16\n",
      "   -- ------------------------------------- 2.4/39.4 MB 2.3 MB/s eta 0:00:16\n",
      "   -- ------------------------------------- 2.6/39.4 MB 2.3 MB/s eta 0:00:16\n",
      "   --- ------------------------------------ 3.1/39.4 MB 2.3 MB/s eta 0:00:16\n",
      "   --- ------------------------------------ 3.7/39.4 MB 2.3 MB/s eta 0:00:16\n",
      "   ---- ----------------------------------- 4.2/39.4 MB 2.2 MB/s eta 0:00:16\n",
      "   ---- ----------------------------------- 4.5/39.4 MB 2.2 MB/s eta 0:00:16\n",
      "   ----- ---------------------------------- 5.0/39.4 MB 2.2 MB/s eta 0:00:16\n",
      "   ----- ---------------------------------- 5.5/39.4 MB 2.2 MB/s eta 0:00:16\n",
      "   ----- ---------------------------------- 5.8/39.4 MB 2.2 MB/s eta 0:00:16\n",
      "   ------ --------------------------------- 6.3/39.4 MB 2.2 MB/s eta 0:00:16\n",
      "   ------ --------------------------------- 6.8/39.4 MB 2.2 MB/s eta 0:00:15\n",
      "   ------- -------------------------------- 7.1/39.4 MB 2.2 MB/s eta 0:00:15\n",
      "   ------- -------------------------------- 7.6/39.4 MB 2.2 MB/s eta 0:00:15\n",
      "   -------- ------------------------------- 8.1/39.4 MB 2.2 MB/s eta 0:00:15\n",
      "   -------- ------------------------------- 8.4/39.4 MB 2.2 MB/s eta 0:00:15\n",
      "   --------- ------------------------------ 8.9/39.4 MB 2.2 MB/s eta 0:00:15\n",
      "   --------- ------------------------------ 9.4/39.4 MB 2.2 MB/s eta 0:00:14\n",
      "   ---------- ----------------------------- 10.0/39.4 MB 2.2 MB/s eta 0:00:14\n",
      "   ---------- ----------------------------- 10.2/39.4 MB 2.2 MB/s eta 0:00:14\n",
      "   ---------- ----------------------------- 10.7/39.4 MB 2.2 MB/s eta 0:00:14\n",
      "   ----------- ---------------------------- 11.0/39.4 MB 2.2 MB/s eta 0:00:14\n",
      "   ----------- ---------------------------- 11.5/39.4 MB 2.2 MB/s eta 0:00:13\n",
      "   ------------ --------------------------- 12.1/39.4 MB 2.1 MB/s eta 0:00:13\n",
      "   ------------ --------------------------- 12.3/39.4 MB 2.1 MB/s eta 0:00:13\n",
      "   ------------- -------------------------- 12.8/39.4 MB 2.2 MB/s eta 0:00:13\n",
      "   ------------- -------------------------- 13.4/39.4 MB 2.2 MB/s eta 0:00:13\n",
      "   -------------- ------------------------- 13.9/39.4 MB 2.2 MB/s eta 0:00:12\n",
      "   -------------- ------------------------- 14.2/39.4 MB 2.2 MB/s eta 0:00:12\n",
      "   -------------- ------------------------- 14.7/39.4 MB 2.2 MB/s eta 0:00:12\n",
      "   --------------- ------------------------ 15.2/39.4 MB 2.2 MB/s eta 0:00:12\n",
      "   --------------- ------------------------ 15.7/39.4 MB 2.2 MB/s eta 0:00:11\n",
      "   ---------------- ----------------------- 16.0/39.4 MB 2.2 MB/s eta 0:00:11\n",
      "   ---------------- ----------------------- 16.5/39.4 MB 2.1 MB/s eta 0:00:11\n",
      "   ----------------- ---------------------- 16.8/39.4 MB 2.1 MB/s eta 0:00:11\n",
      "   ----------------- ---------------------- 17.3/39.4 MB 2.1 MB/s eta 0:00:11\n",
      "   ------------------ --------------------- 17.8/39.4 MB 2.2 MB/s eta 0:00:11\n",
      "   ------------------ --------------------- 18.4/39.4 MB 2.2 MB/s eta 0:00:10\n",
      "   ------------------- -------------------- 18.9/39.4 MB 2.2 MB/s eta 0:00:10\n",
      "   ------------------- -------------------- 19.4/39.4 MB 2.2 MB/s eta 0:00:10\n",
      "   ------------------- -------------------- 19.7/39.4 MB 2.2 MB/s eta 0:00:10\n",
      "   -------------------- ------------------- 20.2/39.4 MB 2.2 MB/s eta 0:00:09\n",
      "   -------------------- ------------------- 20.4/39.4 MB 2.2 MB/s eta 0:00:09\n",
      "   --------------------- ------------------ 21.0/39.4 MB 2.2 MB/s eta 0:00:09\n",
      "   --------------------- ------------------ 21.5/39.4 MB 2.2 MB/s eta 0:00:09\n",
      "   ---------------------- ----------------- 21.8/39.4 MB 2.2 MB/s eta 0:00:09\n",
      "   ---------------------- ----------------- 22.3/39.4 MB 2.2 MB/s eta 0:00:08\n",
      "   ----------------------- ---------------- 22.8/39.4 MB 2.2 MB/s eta 0:00:08\n",
      "   ----------------------- ---------------- 23.3/39.4 MB 2.2 MB/s eta 0:00:08\n",
      "   ------------------------ --------------- 23.9/39.4 MB 2.2 MB/s eta 0:00:08\n",
      "   ------------------------ --------------- 24.1/39.4 MB 2.2 MB/s eta 0:00:08\n",
      "   ------------------------- -------------- 24.6/39.4 MB 2.2 MB/s eta 0:00:07\n",
      "   ------------------------- -------------- 25.2/39.4 MB 2.2 MB/s eta 0:00:07\n",
      "   -------------------------- ------------- 25.7/39.4 MB 2.2 MB/s eta 0:00:07\n",
      "   -------------------------- ------------- 26.0/39.4 MB 2.2 MB/s eta 0:00:07\n",
      "   -------------------------- ------------- 26.5/39.4 MB 2.2 MB/s eta 0:00:06\n",
      "   --------------------------- ------------ 27.0/39.4 MB 2.2 MB/s eta 0:00:06\n",
      "   --------------------------- ------------ 27.3/39.4 MB 2.2 MB/s eta 0:00:06\n",
      "   ---------------------------- ----------- 27.8/39.4 MB 2.2 MB/s eta 0:00:06\n",
      "   ---------------------------- ----------- 28.0/39.4 MB 2.2 MB/s eta 0:00:06\n",
      "   ----------------------------- ---------- 28.6/39.4 MB 2.2 MB/s eta 0:00:06\n",
      "   ----------------------------- ---------- 29.1/39.4 MB 2.2 MB/s eta 0:00:05\n",
      "   ------------------------------ --------- 29.6/39.4 MB 2.2 MB/s eta 0:00:05\n",
      "   ------------------------------ --------- 30.1/39.4 MB 2.2 MB/s eta 0:00:05\n",
      "   ------------------------------ --------- 30.4/39.4 MB 2.2 MB/s eta 0:00:05\n",
      "   ------------------------------- -------- 30.9/39.4 MB 2.2 MB/s eta 0:00:04\n",
      "   ------------------------------- -------- 31.2/39.4 MB 2.2 MB/s eta 0:00:04\n",
      "   -------------------------------- ------- 31.7/39.4 MB 2.2 MB/s eta 0:00:04\n",
      "   -------------------------------- ------- 32.2/39.4 MB 2.1 MB/s eta 0:00:04\n",
      "   --------------------------------- ------ 32.8/39.4 MB 2.2 MB/s eta 0:00:04\n",
      "   --------------------------------- ------ 33.3/39.4 MB 2.2 MB/s eta 0:00:03\n",
      "   ---------------------------------- ----- 33.8/39.4 MB 2.2 MB/s eta 0:00:03\n",
      "   ---------------------------------- ----- 34.1/39.4 MB 2.2 MB/s eta 0:00:03\n",
      "   ---------------------------------- ----- 34.3/39.4 MB 2.2 MB/s eta 0:00:03\n",
      "   ----------------------------------- ---- 34.9/39.4 MB 2.2 MB/s eta 0:00:03\n",
      "   ----------------------------------- ---- 35.4/39.4 MB 2.2 MB/s eta 0:00:02\n",
      "   ------------------------------------ --- 35.9/39.4 MB 2.2 MB/s eta 0:00:02\n",
      "   ------------------------------------ --- 36.4/39.4 MB 2.2 MB/s eta 0:00:02\n",
      "   ------------------------------------- -- 36.7/39.4 MB 2.2 MB/s eta 0:00:02\n",
      "   ------------------------------------- -- 37.2/39.4 MB 2.2 MB/s eta 0:00:02\n",
      "   -------------------------------------- - 37.7/39.4 MB 2.2 MB/s eta 0:00:01\n",
      "   -------------------------------------- - 38.0/39.4 MB 2.2 MB/s eta 0:00:01\n",
      "   ---------------------------------------  38.5/39.4 MB 2.2 MB/s eta 0:00:01\n",
      "   ---------------------------------------  38.8/39.4 MB 2.2 MB/s eta 0:00:01\n",
      "   ---------------------------------------  39.3/39.4 MB 2.2 MB/s eta 0:00:01\n",
      "   ---------------------------------------- 39.4/39.4 MB 2.1 MB/s eta 0:00:00\n",
      "Downloading pyclipper-1.3.0.post6-cp313-cp313-win_amd64.whl (109 kB)\n",
      "Downloading python_bidi-0.6.6-cp313-cp313-win_amd64.whl (159 kB)\n",
      "Downloading scikit_image-0.25.2-cp313-cp313-win_amd64.whl (12.9 MB)\n",
      "   ---------------------------------------- 0.0/12.9 MB ? eta -:--:--\n",
      "   - -------------------------------------- 0.5/12.9 MB 2.7 MB/s eta 0:00:05\n",
      "   --- ------------------------------------ 1.0/12.9 MB 3.0 MB/s eta 0:00:04\n",
      "   ---- ----------------------------------- 1.6/12.9 MB 2.6 MB/s eta 0:00:05\n",
      "   ----- ---------------------------------- 1.8/12.9 MB 2.6 MB/s eta 0:00:05\n",
      "   ------- -------------------------------- 2.4/12.9 MB 2.3 MB/s eta 0:00:05\n",
      "   -------- ------------------------------- 2.6/12.9 MB 2.2 MB/s eta 0:00:05\n",
      "   --------- ------------------------------ 3.1/12.9 MB 2.2 MB/s eta 0:00:05\n",
      "   ----------- ---------------------------- 3.7/12.9 MB 2.2 MB/s eta 0:00:05\n",
      "   ------------- -------------------------- 4.2/12.9 MB 2.3 MB/s eta 0:00:04\n",
      "   -------------- ------------------------- 4.7/12.9 MB 2.3 MB/s eta 0:00:04\n",
      "   --------------- ------------------------ 5.0/12.9 MB 2.3 MB/s eta 0:00:04\n",
      "   ----------------- ---------------------- 5.5/12.9 MB 2.2 MB/s eta 0:00:04\n",
      "   ----------------- ---------------------- 5.8/12.9 MB 2.2 MB/s eta 0:00:04\n",
      "   ------------------- -------------------- 6.3/12.9 MB 2.2 MB/s eta 0:00:03\n",
      "   --------------------- ------------------ 6.8/12.9 MB 2.2 MB/s eta 0:00:03\n",
      "   ---------------------- ----------------- 7.3/12.9 MB 2.2 MB/s eta 0:00:03\n",
      "   ------------------------ --------------- 7.9/12.9 MB 2.2 MB/s eta 0:00:03\n",
      "   ------------------------- -------------- 8.1/12.9 MB 2.2 MB/s eta 0:00:03\n",
      "   -------------------------- ------------- 8.7/12.9 MB 2.2 MB/s eta 0:00:02\n",
      "   ---------------------------- ----------- 9.2/12.9 MB 2.2 MB/s eta 0:00:02\n",
      "   ----------------------------- ---------- 9.4/12.9 MB 2.2 MB/s eta 0:00:02\n",
      "   ------------------------------ --------- 10.0/12.9 MB 2.2 MB/s eta 0:00:02\n",
      "   -------------------------------- ------- 10.5/12.9 MB 2.2 MB/s eta 0:00:02\n",
      "   ---------------------------------- ----- 11.0/12.9 MB 2.2 MB/s eta 0:00:01\n",
      "   ---------------------------------- ----- 11.3/12.9 MB 2.2 MB/s eta 0:00:01\n",
      "   ------------------------------------ --- 11.8/12.9 MB 2.2 MB/s eta 0:00:01\n",
      "   -------------------------------------- - 12.3/12.9 MB 2.2 MB/s eta 0:00:01\n",
      "   ---------------------------------------  12.8/12.9 MB 2.2 MB/s eta 0:00:01\n",
      "   ---------------------------------------- 12.9/12.9 MB 2.2 MB/s eta 0:00:00\n",
      "Downloading shapely-2.0.7-cp313-cp313-win_amd64.whl (1.4 MB)\n",
      "   ---------------------------------------- 0.0/1.4 MB ? eta -:--:--\n",
      "   ------- -------------------------------- 0.3/1.4 MB ? eta -:--:--\n",
      "   -------------- ------------------------- 0.5/1.4 MB 1.8 MB/s eta 0:00:01\n",
      "   ----------------------------- ---------- 1.0/1.4 MB 2.1 MB/s eta 0:00:01\n",
      "   ---------------------------------------- 1.4/1.4 MB 2.2 MB/s eta 0:00:00\n",
      "Downloading imageio-2.37.0-py3-none-any.whl (315 kB)\n",
      "Downloading lazy_loader-0.4-py3-none-any.whl (12 kB)\n",
      "Downloading tifffile-2025.2.18-py3-none-any.whl (226 kB)\n",
      "Installing collected packages: python-bidi, pyclipper, tifffile, Shapely, opencv-python-headless, ninja, lazy-loader, imageio, scikit-image, easyocr\n",
      "Successfully installed Shapely-2.0.7 easyocr-1.7.2 imageio-2.37.0 lazy-loader-0.4 ninja-1.11.1.3 opencv-python-headless-4.11.0.86 pyclipper-1.3.0.post6 python-bidi-0.6.6 scikit-image-0.25.2 tifffile-2025.2.18\n"
     ]
    }
   ],
   "source": [
    "!pip install easyocr"
   ]
  },
  {
   "cell_type": "code",
   "execution_count": 6,
   "id": "de5d7d9c-7c73-4371-9a75-7820ce1f4bee",
   "metadata": {},
   "outputs": [],
   "source": [
    "from ultralytics import YOLO\n",
    "import cv2\n",
    "import easyocr"
   ]
  },
  {
   "cell_type": "code",
   "execution_count": 7,
   "id": "b8ed8558-4b78-410a-97f1-38a6d9060c62",
   "metadata": {},
   "outputs": [],
   "source": [
    "model=YOLO(\"C:\\\\Users\\\\Archy\\\\OneDrive\\\\Desktop\\\\Infosys_project\\\\detection_model\\\\runs\\\\detect\\\\train3\\\\weights\\\\best.pt\")"
   ]
  },
  {
   "cell_type": "code",
   "execution_count": 8,
   "id": "3f22938a-892f-4ab1-b0d5-3341348644ae",
   "metadata": {},
   "outputs": [
    {
     "name": "stderr",
     "output_type": "stream",
     "text": [
      "Neither CUDA nor MPS are available - defaulting to CPU. Note: This module is much faster with a GPU.\n",
      "Downloading detection model, please wait. This may take several minutes depending upon your network connection.\n"
     ]
    },
    {
     "name": "stdout",
     "output_type": "stream",
     "text": [
      "Progress: |██████████████████████████████████████████████████| 100.0% Complete"
     ]
    },
    {
     "name": "stderr",
     "output_type": "stream",
     "text": [
      "Downloading recognition model, please wait. This may take several minutes depending upon your network connection.\n"
     ]
    },
    {
     "name": "stdout",
     "output_type": "stream",
     "text": [
      "Progress: |██████████████████████████████████████████████████| 100.0% Complete"
     ]
    }
   ],
   "source": [
    "reader = easyocr.Reader(['en'])"
   ]
  },
  {
   "cell_type": "code",
   "execution_count": 9,
   "id": "524d230b-7e2c-42e6-a03a-5cff0b7a5934",
   "metadata": {},
   "outputs": [
    {
     "name": "stdout",
     "output_type": "stream",
     "text": [
      "\n",
      "image 1/1 C:\\Users\\Archy\\OneDrive\\Desktop\\Infosys_project\\1686283587.webp: 640x512 1 name, 2 uids, 1 address, 208.7ms\n",
      "Speed: 12.4ms preprocess, 208.7ms inference, 14.4ms postprocess per image at shape (1, 3, 640, 512)\n"
     ]
    }
   ],
   "source": [
    "image_path = \"C:\\\\Users\\\\Archy\\\\OneDrive\\Desktop\\\\Infosys_project\\\\1686283587.webp\" # replace with your image path\n",
    "results = model(image_path)"
   ]
  },
  {
   "cell_type": "code",
   "execution_count": 10,
   "id": "cd36e3d3-2363-4ab4-ab1b-1df8569fd77d",
   "metadata": {},
   "outputs": [],
   "source": [
    "# Load the original image\n",
    "image = cv2.imread(image_path)\n",
    "\n",
    "# Dictionary to store extracted fields\n",
    "extracted_data = {}"
   ]
  },
  {
   "cell_type": "code",
   "execution_count": 12,
   "id": "10ab169f-8d46-44cb-aba0-5ac84578af39",
   "metadata": {},
   "outputs": [],
   "source": [
    "# Iterate through detections\n",
    "for result in results[0].boxes.data.tolist():  # results[0].boxes.data contains bounding box details\n",
    "    x1, y1, x2, y2, confidence, class_id = map(int, result[:6])\n",
    "    field_class = model.names[class_id]  # Get class name (e.g., 'Name', 'UID', 'Address')\n",
    "\n",
    "    # Crop the detected region\n",
    "    cropped_roi = image[y1:y2, x1:x2]\n",
    "\n",
    "    # Convert cropped ROI to grayscale for OCR\n",
    "    gray_roi = cv2.cvtColor(cropped_roi, cv2.COLOR_BGR2GRAY)\n",
    "\n",
    "    # Use EasyOCR to extract text\n",
    "    text = reader.readtext(gray_roi, detail=0)  # detail=0 returns only the text\n",
    "\n",
    "    # Save the text to the extracted_data dictionary\n",
    "    extracted_data[field_class] = ' '.join(text)  # Combine detected text if multiple lines"
   ]
  },
  {
   "cell_type": "code",
   "execution_count": 13,
   "id": "20ffe6ce-6ab6-472e-a5d4-22199e7659b0",
   "metadata": {},
   "outputs": [
    {
     "name": "stdout",
     "output_type": "stream",
     "text": [
      "Extracted Data: {'uid': '5826 2023 8724', 'name': 'Anju Raibhar', 'address': 'Address: CIO: Arvind Rajbhar, Naurasiya, Naursia, Azamgarh, Uttar Pradesh 276123'}\n"
     ]
    }
   ],
   "source": [
    "# Print the extracted fields\n",
    "print(\"Extracted Data:\", extracted_data)"
   ]
  },
  {
   "cell_type": "code",
   "execution_count": null,
   "id": "7b6cdf02-d6f3-4bac-87e1-dd8f5d521d34",
   "metadata": {},
   "outputs": [],
   "source": []
  }
 ],
 "metadata": {
  "kernelspec": {
   "display_name": "Python 3 (ipykernel)",
   "language": "python",
   "name": "python3"
  },
  "language_info": {
   "codemirror_mode": {
    "name": "ipython",
    "version": 3
   },
   "file_extension": ".py",
   "mimetype": "text/x-python",
   "name": "python",
   "nbconvert_exporter": "python",
   "pygments_lexer": "ipython3",
   "version": "3.11.5"
  }
 },
 "nbformat": 4,
 "nbformat_minor": 5
}
